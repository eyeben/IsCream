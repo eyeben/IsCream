{
 "cells": [
  {
   "cell_type": "code",
   "id": "initial_id",
   "metadata": {
    "collapsed": true,
    "jupyter": {
     "is_executing": true
    }
   },
   "source": [
    "import PyPDF2\n",
    "\n",
    "# PDF 파일 읽기\n",
    "pdf_file = \"htp2.pdf\"\n",
    "with open(pdf_file, \"rb\") as file:\n",
    "    reader = PyPDF2.PdfReader(file)\n",
    "    text_data = [page.extract_text() for page in reader.pages]\n",
    "\n",
    "# 텍스트 데이터 리스트 출력\n",
    "print(text_data)"
   ],
   "outputs": [],
   "execution_count": null
  },
  {
   "metadata": {},
   "cell_type": "code",
   "outputs": [],
   "execution_count": null,
   "source": "",
   "id": "92b25dc3f935e2ad"
  }
 ],
 "metadata": {
  "kernelspec": {
   "display_name": "Python 3",
   "language": "python",
   "name": "python3"
  },
  "language_info": {
   "codemirror_mode": {
    "name": "ipython",
    "version": 2
   },
   "file_extension": ".py",
   "mimetype": "text/x-python",
   "name": "python",
   "nbconvert_exporter": "python",
   "pygments_lexer": "ipython2",
   "version": "2.7.6"
  }
 },
 "nbformat": 4,
 "nbformat_minor": 5
}
